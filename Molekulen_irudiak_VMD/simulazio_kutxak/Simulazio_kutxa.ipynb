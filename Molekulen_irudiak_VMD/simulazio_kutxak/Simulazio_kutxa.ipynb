{
 "cells": [
  {
   "cell_type": "markdown",
   "metadata": {},
   "source": [
    "# Simulazio kutxaren irudiak sortzeko beharrezko pdb-en sorrera"
   ]
  },
  {
   "cell_type": "code",
   "execution_count": 15,
   "metadata": {},
   "outputs": [],
   "source": [
    "import numpy as np\n",
    "import pandas as pd\n",
    "from copy import deepcopy\n",
    "import matplotlib.pyplot as plt\n",
    "import openmm as mm\n",
    "from openmm import app, unit, Vec3\n",
    "from openmmtools.constants import ONE_4PI_EPS0\n",
    "from openmm.unit.quantity import Quantity\n",
    "from openmmforcefields.generators import GAFFTemplateGenerator\n",
    "from openff.toolkit.topology import Molecule"
   ]
  },
  {
   "cell_type": "code",
   "execution_count": 11,
   "metadata": {},
   "outputs": [],
   "source": [
    "molecule = Molecule('ibuprofeno.sdf')\n",
    "molecule_pdb = app.PDBFile('ibuprofeno.pdb')\n",
    "\n",
    "#molecule = Molecule('molecule.sdf')\n",
    "#molecule_pdb = app.PDBFile('molecule.pdb')"
   ]
  },
  {
   "cell_type": "code",
   "execution_count": 12,
   "metadata": {},
   "outputs": [],
   "source": [
    "forcefield = app.ForceField('amber14/tip3pfb.xml')\n",
    "gaff = GAFFTemplateGenerator(molecule, forcefield='gaff-2.11')\n",
    "forcefield.registerTemplateGenerator(gaff.generator)\n",
    "\n",
    "solvated_model = app.Modeller(molecule_pdb.topology, molecule_pdb.positions)\n",
    "solvated_model.addSolvent(forcefield, model='tip3p', padding=1.5 * unit.nanometer)\n",
    "\n",
    "system = forcefield.createSystem(\n",
    "    topology=solvated_model.topology,\n",
    "    nonbondedMethod=app.CutoffPeriodic,\n",
    "    nonbondedCutoff=0.8 * unit.nanometer,\n",
    "    constraints=app.HBonds,\n",
    "    rigidWater=True\n",
    ")"
   ]
  },
  {
   "cell_type": "code",
   "execution_count": 16,
   "metadata": {},
   "outputs": [],
   "source": [
    "# Hutseko sistema prestatu:\n",
    "vacuum_model = app.Modeller(molecule_pdb.topology, molecule_pdb.positions)\n",
    "vacuum_model.topology.setPeriodicBoxVectors(Quantity(value=(\n",
    "    Vec3(x=3.0, y=0.0, z=0.0),\n",
    "    Vec3(x=0.0, y=3.0, z=0.0),\n",
    "    Vec3(x=0.0, y=0.0, z=3.0)),\n",
    "    unit = unit.nanometer\n",
    "))\n",
    "\n",
    "vacuum_system = forcefield.createSystem(\n",
    "    topology = vacuum_model.topology,\n",
    "    nonbondedMethod = app.NoCutoff, # Hau da aldaketa nagusia! Cutoffak eta PBCak kentzeko.\n",
    "    # Remove: nonbondedCutoff = ..., \n",
    "    removeCMMotion = True,\n",
    "    constraints = app.HBonds,\n",
    "    rigidWater = True\n",
    ")"
   ]
  },
  {
   "cell_type": "code",
   "execution_count": 18,
   "metadata": {},
   "outputs": [],
   "source": [
    "temperature = 300 * unit.kelvin\n",
    "friction_coefficient = 1 / unit.picosecond\n",
    "time_step = 4 * unit.femtosecond\n",
    "\n",
    "integrator = mm.LangevinMiddleIntegrator(temperature, friction_coefficient,time_step)\n",
    "integrator_vacuum = mm.LangevinMiddleIntegrator(temperature, friction_coefficient,time_step)"
   ]
  },
  {
   "cell_type": "code",
   "execution_count": 19,
   "metadata": {},
   "outputs": [],
   "source": [
    "# Simulazioari esan behar diogu zein hardware erabili behar duen simulazioa egiteko. \n",
    "# Hemen 'CPU' jarri txartel grafikorik ez badago ordenagailuan.\n",
    "platform = mm.Platform.getPlatformByName('CUDA')\n",
    "\n",
    "simulation = app.Simulation(solvated_model.topology, system, integrator, platform=platform)\n",
    "simulation.context.setPositions(solvated_model.positions)\n",
    "\n",
    "simulation_vacuum = app.Simulation(vacuum_model.topology, vacuum_system, integrator_vacuum, platform=platform)\n",
    "simulation_vacuum.context.setPositions(vacuum_model.positions)"
   ]
  },
  {
   "cell_type": "code",
   "execution_count": 24,
   "metadata": {},
   "outputs": [],
   "source": [
    "pdb_reporter = app.PDBReporter(file='Water_system.pdb',reportInterval=1)\n",
    "pdb_reporter_vacuum = app.PDBReporter(file='Vacuum_system.pdb',reportInterval=1)\n",
    "simulation.reporters.append(pdb_reporter)\n",
    "simulation_vacuum.reporters.append(pdb_reporter_vacuum)\n"
   ]
  },
  {
   "cell_type": "code",
   "execution_count": 25,
   "metadata": {},
   "outputs": [],
   "source": [
    "simulation.step(1)\n",
    "simulation_vacuum.step(1)"
   ]
  }
 ],
 "metadata": {
  "kernelspec": {
   "display_name": "dinamika_molekularra",
   "language": "python",
   "name": "python3"
  },
  "language_info": {
   "codemirror_mode": {
    "name": "ipython",
    "version": 3
   },
   "file_extension": ".py",
   "mimetype": "text/x-python",
   "name": "python",
   "nbconvert_exporter": "python",
   "pygments_lexer": "ipython3",
   "version": "3.11.5"
  }
 },
 "nbformat": 4,
 "nbformat_minor": 2
}
